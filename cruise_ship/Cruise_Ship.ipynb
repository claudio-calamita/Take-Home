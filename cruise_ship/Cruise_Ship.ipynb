{
 "cells": [
  {
   "cell_type": "markdown",
   "metadata": {},
   "source": [
    "# Coding Exercise for the Data Scientist Position \n",
    "\n",
    "## Instructions\n",
    "\n",
    "This coding exercise should be performed in python (which is the programming language used by the team). You are free to use the internet and any other libraries. Please save your work in a Jupyter notebook and email it to us for review.\n",
    "\n",
    "Data file: cruise_ship_info.csv (this file will be emailed to you)\n",
    "\n",
    "Objective: Build a regressor that recommends the “crew” size for potential ship buyers. Please do the following steps (hint: use numpy, scipy, pandas, sklearn and matplotlib)\n",
    "\n",
    "-------\n",
    "\n",
    "1. Read the file and display columns.\n",
    "\n",
    "2. Calculate basic statistics of the data (count, mean, std, etc) and examine data and state your observations.\n",
    "\n",
    "3. Select columns that will be probably important to predict “crew” size.\n",
    "\n",
    "4. If you removed columns explain why you removed those.\n",
    "\n",
    "5. Use one-hot encoding for categorical features.\n",
    "\n",
    "6. Create training and testing sets (use 60% of the data for the training and reminder for testing).\n",
    "\n",
    "7. Build a machine learning model to predict the ‘crew’ size.\n",
    "\n",
    "8. Calculate the Pearson correlation coefficient for the training set and testing data sets.\n",
    "\n",
    "9. Describe hyper-parameters in your model and how you would change them to improve the performance of the model.\n",
    "\n",
    "10. What is regularization? What is the regularization parameter in your model?\n",
    "\n",
    "------\n",
    "\n",
    "Plot regularization parameter value vs Pearson correlation for the test and training sets, and see whether your model has a bias problem or variance problem.\n",
    "\n",
    "**3 days, no formal report needed. Due 16th May 2020, 15.08**\n",
    "\n",
    "https://towardsdatascience.com/project-report-for-data-science-coding-exercise-9a9c76a09be8\n"
   ]
  },
  {
   "cell_type": "markdown",
   "metadata": {},
   "source": [
    "# Crew Size Regressor"
   ]
  },
  {
   "cell_type": "markdown",
   "metadata": {},
   "source": [
    "In this take-home exercise we will build a regressor that recommends the “crew” size for potential ship buyers."
   ]
  },
  {
   "cell_type": "markdown",
   "metadata": {},
   "source": [
    "<img src=\"nutshell.png\" alt=\"drawing\" width=\"600\"/>"
   ]
  },
  {
   "cell_type": "markdown",
   "metadata": {},
   "source": [
    "We will follow the approach to Data Science adviced by the course \"Data Science Methodology\" (Coursera e-learning)."
   ]
  },
  {
   "cell_type": "markdown",
   "metadata": {},
   "source": [
    "The first step is to understand what is the business problem. We want to optimize the crew size for a ship buyer, considering different features as dimension of boat and the cabins, the number of passengers. \n",
    "\n",
    "The data are yielded by the society that gives the challenge.\n",
    "\n",
    "The idea is to build a model to understand this number. There could be different approaches. \n",
    "It could be used a Multilinear Regression Model depending on different features of boats. Another approach could be using clustering to cluster the dataset and see if there is an adviced crew size for a certain type of boats. \n"
   ]
  },
  {
   "cell_type": "code",
   "execution_count": 174,
   "metadata": {},
   "outputs": [],
   "source": [
    "##Import libraries\n",
    "import pandas as pd\n",
    "import pandas_profiling\n",
    "\n",
    "from matplotlib import pyplot as plt\n",
    "%matplotlib inline\n",
    "\n",
    "from scipy import stats\n",
    "\n",
    "import seaborn as sns\n",
    "\n",
    "import numpy as np\n",
    "\n",
    "from sklearn.preprocessing import LabelEncoder\n",
    "from sklearn.preprocessing import StandardScaler\n",
    "from sklearn.model_selection import train_test_split\n",
    "from sklearn.linear_model import LinearRegression\n",
    "from sklearn.metrics import mean_squared_error\n",
    "from sklearn.metrics import f1_score\n",
    "\n",
    "import joblib"
   ]
  },
  {
   "cell_type": "markdown",
   "metadata": {},
   "source": [
    "## Getting Dataset"
   ]
  },
  {
   "cell_type": "code",
   "execution_count": 177,
   "metadata": {},
   "outputs": [
    {
     "name": "stdout",
     "output_type": "stream",
     "text": [
      "--2020-05-14 15:16:41--  https://raw.githubusercontent.com/bot13956/ML_Model_for_Predicting_Ships_Crew_Size/master/cruise_ship_info.csv\n",
      "Resolving raw.githubusercontent.com... 151.101.240.133\n",
      "Connecting to raw.githubusercontent.com|151.101.240.133|:443... connected.\n",
      "HTTP request sent, awaiting response... 200 OK\n"
     ]
    }
   ],
   "source": [
    "## Download data from raw github\n",
    "!wget -nc --no-check-certificate --content-disposition https://raw.githubusercontent.com/bot13956/ML_Model_for_Predicting_Ships_Crew_Size/master/cruise_ship_info.csv"
   ]
  },
  {
   "cell_type": "code",
   "execution_count": 136,
   "metadata": {},
   "outputs": [],
   "source": [
    "## import dataset in a data frame\n",
    "df = pd.read_csv(\"cruise_ship_info.csv\")"
   ]
  },
  {
   "cell_type": "code",
   "execution_count": 137,
   "metadata": {},
   "outputs": [
    {
     "data": {
      "text/html": [
       "<div>\n",
       "<style scoped>\n",
       "    .dataframe tbody tr th:only-of-type {\n",
       "        vertical-align: middle;\n",
       "    }\n",
       "\n",
       "    .dataframe tbody tr th {\n",
       "        vertical-align: top;\n",
       "    }\n",
       "\n",
       "    .dataframe thead th {\n",
       "        text-align: right;\n",
       "    }\n",
       "</style>\n",
       "<table border=\"1\" class=\"dataframe\">\n",
       "  <thead>\n",
       "    <tr style=\"text-align: right;\">\n",
       "      <th></th>\n",
       "      <th>Ship_name</th>\n",
       "      <th>Cruise_line</th>\n",
       "      <th>Age</th>\n",
       "      <th>Tonnage</th>\n",
       "      <th>passengers</th>\n",
       "      <th>length</th>\n",
       "      <th>cabins</th>\n",
       "      <th>passenger_density</th>\n",
       "      <th>crew</th>\n",
       "    </tr>\n",
       "  </thead>\n",
       "  <tbody>\n",
       "    <tr>\n",
       "      <th>0</th>\n",
       "      <td>Journey</td>\n",
       "      <td>Azamara</td>\n",
       "      <td>6</td>\n",
       "      <td>30.277</td>\n",
       "      <td>6.94</td>\n",
       "      <td>5.94</td>\n",
       "      <td>3.55</td>\n",
       "      <td>42.64</td>\n",
       "      <td>3.55</td>\n",
       "    </tr>\n",
       "    <tr>\n",
       "      <th>1</th>\n",
       "      <td>Quest</td>\n",
       "      <td>Azamara</td>\n",
       "      <td>6</td>\n",
       "      <td>30.277</td>\n",
       "      <td>6.94</td>\n",
       "      <td>5.94</td>\n",
       "      <td>3.55</td>\n",
       "      <td>42.64</td>\n",
       "      <td>3.55</td>\n",
       "    </tr>\n",
       "    <tr>\n",
       "      <th>2</th>\n",
       "      <td>Celebration</td>\n",
       "      <td>Carnival</td>\n",
       "      <td>26</td>\n",
       "      <td>47.262</td>\n",
       "      <td>14.86</td>\n",
       "      <td>7.22</td>\n",
       "      <td>7.43</td>\n",
       "      <td>31.80</td>\n",
       "      <td>6.70</td>\n",
       "    </tr>\n",
       "    <tr>\n",
       "      <th>3</th>\n",
       "      <td>Conquest</td>\n",
       "      <td>Carnival</td>\n",
       "      <td>11</td>\n",
       "      <td>110.000</td>\n",
       "      <td>29.74</td>\n",
       "      <td>9.53</td>\n",
       "      <td>14.88</td>\n",
       "      <td>36.99</td>\n",
       "      <td>19.10</td>\n",
       "    </tr>\n",
       "    <tr>\n",
       "      <th>4</th>\n",
       "      <td>Destiny</td>\n",
       "      <td>Carnival</td>\n",
       "      <td>17</td>\n",
       "      <td>101.353</td>\n",
       "      <td>26.42</td>\n",
       "      <td>8.92</td>\n",
       "      <td>13.21</td>\n",
       "      <td>38.36</td>\n",
       "      <td>10.00</td>\n",
       "    </tr>\n",
       "  </tbody>\n",
       "</table>\n",
       "</div>"
      ],
      "text/plain": [
       "     Ship_name Cruise_line  Age  Tonnage  passengers  length  cabins  \\\n",
       "0      Journey     Azamara    6   30.277        6.94    5.94    3.55   \n",
       "1        Quest     Azamara    6   30.277        6.94    5.94    3.55   \n",
       "2  Celebration    Carnival   26   47.262       14.86    7.22    7.43   \n",
       "3     Conquest    Carnival   11  110.000       29.74    9.53   14.88   \n",
       "4      Destiny    Carnival   17  101.353       26.42    8.92   13.21   \n",
       "\n",
       "   passenger_density   crew  \n",
       "0              42.64   3.55  \n",
       "1              42.64   3.55  \n",
       "2              31.80   6.70  \n",
       "3              36.99  19.10  \n",
       "4              38.36  10.00  "
      ]
     },
     "execution_count": 137,
     "metadata": {},
     "output_type": "execute_result"
    }
   ],
   "source": [
    "## Let's see the variables in the dataset\n",
    "df.head()"
   ]
  },
  {
   "cell_type": "code",
   "execution_count": 138,
   "metadata": {},
   "outputs": [
    {
     "data": {
      "text/plain": [
       "(158, 9)"
      ]
     },
     "execution_count": 138,
     "metadata": {},
     "output_type": "execute_result"
    }
   ],
   "source": [
    "df.shape"
   ]
  },
  {
   "cell_type": "markdown",
   "metadata": {},
   "source": [
    "We have 158 samples and 9 variables. We can find two categorical variables and 7 numerical."
   ]
  },
  {
   "cell_type": "code",
   "execution_count": 139,
   "metadata": {},
   "outputs": [
    {
     "name": "stdout",
     "output_type": "stream",
     "text": [
      "Ship_name            0\n",
      "Cruise_line          0\n",
      "Age                  0\n",
      "Tonnage              0\n",
      "passengers           0\n",
      "length               0\n",
      "cabins               0\n",
      "passenger_density    0\n",
      "crew                 0\n",
      "dtype: int64\n"
     ]
    }
   ],
   "source": [
    "print(df.isna().sum())"
   ]
  },
  {
   "cell_type": "markdown",
   "metadata": {},
   "source": [
    "**There are no missing values!**"
   ]
  },
  {
   "cell_type": "markdown",
   "metadata": {},
   "source": [
    "-------------\n",
    "Interesting Variables are:\n",
    "- the age of the ship. It could influence the possible crew on the boat. It is possibile a relation with the year. At the same Volume the goes lowering;\n",
    "\n",
    "- Dimension with tonnage, length surely can influence the crew size;\n",
    "\n",
    "- The line could be an important parameter. Maybe on the shortest paths the crew could be greater\n",
    "\n",
    "- passengers and cabins could be a parameter to consider but less impacting on the crew.\n"
   ]
  },
  {
   "cell_type": "code",
   "execution_count": 140,
   "metadata": {},
   "outputs": [
    {
     "data": {
      "text/html": [
       "<div>\n",
       "<style scoped>\n",
       "    .dataframe tbody tr th:only-of-type {\n",
       "        vertical-align: middle;\n",
       "    }\n",
       "\n",
       "    .dataframe tbody tr th {\n",
       "        vertical-align: top;\n",
       "    }\n",
       "\n",
       "    .dataframe thead th {\n",
       "        text-align: right;\n",
       "    }\n",
       "</style>\n",
       "<table border=\"1\" class=\"dataframe\">\n",
       "  <thead>\n",
       "    <tr style=\"text-align: right;\">\n",
       "      <th></th>\n",
       "      <th>Age</th>\n",
       "      <th>Tonnage</th>\n",
       "      <th>passengers</th>\n",
       "      <th>length</th>\n",
       "      <th>cabins</th>\n",
       "      <th>passenger_density</th>\n",
       "      <th>crew</th>\n",
       "    </tr>\n",
       "  </thead>\n",
       "  <tbody>\n",
       "    <tr>\n",
       "      <th>count</th>\n",
       "      <td>158.000000</td>\n",
       "      <td>158.000000</td>\n",
       "      <td>158.000000</td>\n",
       "      <td>158.000000</td>\n",
       "      <td>158.000000</td>\n",
       "      <td>158.000000</td>\n",
       "      <td>158.000000</td>\n",
       "    </tr>\n",
       "    <tr>\n",
       "      <th>mean</th>\n",
       "      <td>15.689873</td>\n",
       "      <td>71.284671</td>\n",
       "      <td>18.457405</td>\n",
       "      <td>8.130633</td>\n",
       "      <td>8.830000</td>\n",
       "      <td>39.900949</td>\n",
       "      <td>7.794177</td>\n",
       "    </tr>\n",
       "    <tr>\n",
       "      <th>std</th>\n",
       "      <td>7.615691</td>\n",
       "      <td>37.229540</td>\n",
       "      <td>9.677095</td>\n",
       "      <td>1.793474</td>\n",
       "      <td>4.471417</td>\n",
       "      <td>8.639217</td>\n",
       "      <td>3.503487</td>\n",
       "    </tr>\n",
       "    <tr>\n",
       "      <th>min</th>\n",
       "      <td>4.000000</td>\n",
       "      <td>2.329000</td>\n",
       "      <td>0.660000</td>\n",
       "      <td>2.790000</td>\n",
       "      <td>0.330000</td>\n",
       "      <td>17.700000</td>\n",
       "      <td>0.590000</td>\n",
       "    </tr>\n",
       "    <tr>\n",
       "      <th>25%</th>\n",
       "      <td>10.000000</td>\n",
       "      <td>46.013000</td>\n",
       "      <td>12.535000</td>\n",
       "      <td>7.100000</td>\n",
       "      <td>6.132500</td>\n",
       "      <td>34.570000</td>\n",
       "      <td>5.480000</td>\n",
       "    </tr>\n",
       "    <tr>\n",
       "      <th>50%</th>\n",
       "      <td>14.000000</td>\n",
       "      <td>71.899000</td>\n",
       "      <td>19.500000</td>\n",
       "      <td>8.555000</td>\n",
       "      <td>9.570000</td>\n",
       "      <td>39.085000</td>\n",
       "      <td>8.150000</td>\n",
       "    </tr>\n",
       "    <tr>\n",
       "      <th>75%</th>\n",
       "      <td>20.000000</td>\n",
       "      <td>90.772500</td>\n",
       "      <td>24.845000</td>\n",
       "      <td>9.510000</td>\n",
       "      <td>10.885000</td>\n",
       "      <td>44.185000</td>\n",
       "      <td>9.990000</td>\n",
       "    </tr>\n",
       "    <tr>\n",
       "      <th>max</th>\n",
       "      <td>48.000000</td>\n",
       "      <td>220.000000</td>\n",
       "      <td>54.000000</td>\n",
       "      <td>11.820000</td>\n",
       "      <td>27.000000</td>\n",
       "      <td>71.430000</td>\n",
       "      <td>21.000000</td>\n",
       "    </tr>\n",
       "  </tbody>\n",
       "</table>\n",
       "</div>"
      ],
      "text/plain": [
       "              Age     Tonnage  passengers      length      cabins  \\\n",
       "count  158.000000  158.000000  158.000000  158.000000  158.000000   \n",
       "mean    15.689873   71.284671   18.457405    8.130633    8.830000   \n",
       "std      7.615691   37.229540    9.677095    1.793474    4.471417   \n",
       "min      4.000000    2.329000    0.660000    2.790000    0.330000   \n",
       "25%     10.000000   46.013000   12.535000    7.100000    6.132500   \n",
       "50%     14.000000   71.899000   19.500000    8.555000    9.570000   \n",
       "75%     20.000000   90.772500   24.845000    9.510000   10.885000   \n",
       "max     48.000000  220.000000   54.000000   11.820000   27.000000   \n",
       "\n",
       "       passenger_density        crew  \n",
       "count         158.000000  158.000000  \n",
       "mean           39.900949    7.794177  \n",
       "std             8.639217    3.503487  \n",
       "min            17.700000    0.590000  \n",
       "25%            34.570000    5.480000  \n",
       "50%            39.085000    8.150000  \n",
       "75%            44.185000    9.990000  \n",
       "max            71.430000   21.000000  "
      ]
     },
     "execution_count": 140,
     "metadata": {},
     "output_type": "execute_result"
    }
   ],
   "source": [
    "df.describe()"
   ]
  },
  {
   "cell_type": "markdown",
   "metadata": {},
   "source": [
    "The variable length is not varying too much. Indeed, it has a little Standard Deviation. The idea is it could impact not too much in the extimation of the crew size. "
   ]
  },
  {
   "cell_type": "code",
   "execution_count": 141,
   "metadata": {
    "scrolled": true
   },
   "outputs": [
    {
     "name": "stderr",
     "output_type": "stream",
     "text": [
      "/usr/local/lib/python3.7/site-packages/pandas/plotting/_matplotlib/tools.py:307: MatplotlibDeprecationWarning: \n",
      "The rowNum attribute was deprecated in Matplotlib 3.2 and will be removed two minor releases later. Use ax.get_subplotspec().rowspan.start instead.\n",
      "  layout[ax.rowNum, ax.colNum] = ax.get_visible()\n",
      "/usr/local/lib/python3.7/site-packages/pandas/plotting/_matplotlib/tools.py:307: MatplotlibDeprecationWarning: \n",
      "The colNum attribute was deprecated in Matplotlib 3.2 and will be removed two minor releases later. Use ax.get_subplotspec().colspan.start instead.\n",
      "  layout[ax.rowNum, ax.colNum] = ax.get_visible()\n",
      "/usr/local/lib/python3.7/site-packages/pandas/plotting/_matplotlib/tools.py:313: MatplotlibDeprecationWarning: \n",
      "The rowNum attribute was deprecated in Matplotlib 3.2 and will be removed two minor releases later. Use ax.get_subplotspec().rowspan.start instead.\n",
      "  if not layout[ax.rowNum + 1, ax.colNum]:\n",
      "/usr/local/lib/python3.7/site-packages/pandas/plotting/_matplotlib/tools.py:313: MatplotlibDeprecationWarning: \n",
      "The colNum attribute was deprecated in Matplotlib 3.2 and will be removed two minor releases later. Use ax.get_subplotspec().colspan.start instead.\n",
      "  if not layout[ax.rowNum + 1, ax.colNum]:\n"
     ]
    },
    {
     "data": {
      "text/plain": [
       "array([[<matplotlib.axes._subplots.AxesSubplot object at 0x11deb8090>,\n",
       "        <matplotlib.axes._subplots.AxesSubplot object at 0x11de288d0>,\n",
       "        <matplotlib.axes._subplots.AxesSubplot object at 0x11d5bd8d0>],\n",
       "       [<matplotlib.axes._subplots.AxesSubplot object at 0x11f3a46d0>,\n",
       "        <matplotlib.axes._subplots.AxesSubplot object at 0x11ccd3d50>,\n",
       "        <matplotlib.axes._subplots.AxesSubplot object at 0x11ccbb410>],\n",
       "       [<matplotlib.axes._subplots.AxesSubplot object at 0x11f3bfb10>,\n",
       "        <matplotlib.axes._subplots.AxesSubplot object at 0x11cca7110>,\n",
       "        <matplotlib.axes._subplots.AxesSubplot object at 0x11cca7150>]],\n",
       "      dtype=object)"
      ]
     },
     "execution_count": 141,
     "metadata": {},
     "output_type": "execute_result"
    },
    {
     "data": {
      "image/png": "[encoded data removed]",
      "text/plain": [
       "<Figure size 720x720 with 9 Axes>"
      ]
     },
     "metadata": {
      "needs_background": "light"
     },
     "output_type": "display_data"
    }
   ],
   "source": [
    "df.hist(figsize = [10,10])"
   ]
  },
  {
   "cell_type": "code",
   "execution_count": 142,
   "metadata": {},
   "outputs": [],
   "source": [
    "## Do a profile of the file to get some insights\n",
    "#profile = df.profile_report(title='Pandas Profiling Report')\n",
    "#profile.to_file(output_file=\"cruise_ship.html\")"
   ]
  },
  {
   "cell_type": "markdown",
   "metadata": {},
   "source": [
    "Let's do some analysis"
   ]
  },
  {
   "cell_type": "code",
   "execution_count": 143,
   "metadata": {},
   "outputs": [
    {
     "data": {
      "text/plain": [
       "Spirit       4\n",
       "Legend       3\n",
       "Star         3\n",
       "Freedom      2\n",
       "Navigator    2\n",
       "            ..\n",
       "Amsterdam    1\n",
       "Volendam     1\n",
       "Marina       1\n",
       "Solstice     1\n",
       "Radiance     1\n",
       "Name: Ship_name, Length: 138, dtype: int64"
      ]
     },
     "execution_count": 143,
     "metadata": {},
     "output_type": "execute_result"
    }
   ],
   "source": [
    "df['Ship_name'].value_counts()"
   ]
  },
  {
   "cell_type": "markdown",
   "metadata": {},
   "source": [
    "**There are many different boats!**"
   ]
  },
  {
   "cell_type": "code",
   "execution_count": 144,
   "metadata": {},
   "outputs": [
    {
     "data": {
      "text/plain": [
       "Royal_Caribbean      23\n",
       "Carnival             22\n",
       "Princess             17\n",
       "Holland_American     14\n",
       "Norwegian            13\n",
       "Costa                11\n",
       "Celebrity            10\n",
       "MSC                   8\n",
       "Star                  6\n",
       "P&O                   6\n",
       "Regent_Seven_Seas     5\n",
       "Silversea             4\n",
       "Cunard                3\n",
       "Oceania               3\n",
       "Seabourn              3\n",
       "Windstar              3\n",
       "Crystal               2\n",
       "Disney                2\n",
       "Azamara               2\n",
       "Orient                1\n",
       "Name: Cruise_line, dtype: int64"
      ]
     },
     "execution_count": 144,
     "metadata": {},
     "output_type": "execute_result"
    }
   ],
   "source": [
    "df['Cruise_line'].value_counts()"
   ]
  },
  {
   "cell_type": "markdown",
   "metadata": {},
   "source": [
    "The lines are more grouped"
   ]
  },
  {
   "cell_type": "code",
   "execution_count": 145,
   "metadata": {},
   "outputs": [
    {
     "data": {
      "text/plain": [
       "Text(0.5, 0.98, 'Highly Correlated Variables')"
      ]
     },
     "execution_count": 145,
     "metadata": {},
     "output_type": "execute_result"
    },
    {
     "data": {
      "image/png": "[encoded data removed]",
      "text/plain": [
       "<Figure size 720x720 with 4 Axes>"
      ]
     },
     "metadata": {
      "needs_background": "light"
     },
     "output_type": "display_data"
    }
   ],
   "source": [
    "## Idealmente ci sono 4 variabili utili per il fit\n",
    "fig, axs = plt.subplots(2, 2)  # a figure with a 2x2 grid of Axes\n",
    "fig.set_size_inches(10, 10)\n",
    "\n",
    "axs[0, 0].scatter(df['Tonnage'], df['crew'])\n",
    "axs[0, 0].set_xlabel('Tonnage')\n",
    "axs[0, 0].set_ylabel('crew')\n",
    "\n",
    "axs[0, 1].scatter(df['passengers'], df['crew'])\n",
    "axs[0, 1].set_xlabel('passengers')\n",
    "axs[0, 1].set_ylabel('crew')\n",
    "\n",
    "axs[1, 0].scatter(df['length'], df['crew'])\n",
    "axs[1, 0].set_xlabel('length')\n",
    "axs[1, 0].set_ylabel('crew')\n",
    "\n",
    "axs[1, 1].scatter(df['cabins'], df['crew'])\n",
    "axs[1, 1].set_xlabel('cabins')\n",
    "axs[1, 1].set_ylabel('crew')\n",
    "\n",
    "fig.suptitle('Highly Correlated Variables', fontsize=18)\n"
   ]
  },
  {
   "cell_type": "code",
   "execution_count": 146,
   "metadata": {},
   "outputs": [
    {
     "data": {
      "text/plain": [
       "Text(0, 0.5, 'crew')"
      ]
     },
     "execution_count": 146,
     "metadata": {},
     "output_type": "execute_result"
    },
    {
     "data": {
      "image/png": "[encoded data removed]",
      "text/plain": [
       "<Figure size 576x576 with 2 Axes>"
      ]
     },
     "metadata": {
      "needs_background": "light"
     },
     "output_type": "display_data"
    }
   ],
   "source": [
    "fig, axs = plt.subplots(1, 2)  # a figure with a 2x2 grid of Axes\n",
    "fig.set_size_inches(8, 8)\n",
    "\n",
    "axs[0].scatter(df['Age'], df['crew'])\n",
    "axs[0].set_xlabel('Age')\n",
    "axs[0].set_ylabel('crew')\n",
    "\n",
    "axs[1].scatter(df['passenger_density'], df['crew'])\n",
    "axs[1].set_xlabel('passenger_density')\n",
    "axs[1].set_ylabel('crew')"
   ]
  },
  {
   "cell_type": "code",
   "execution_count": 147,
   "metadata": {},
   "outputs": [
    {
     "data": {
      "text/plain": [
       "(-0.1555092842169973, 0.05104673542854471)"
      ]
     },
     "execution_count": 147,
     "metadata": {},
     "output_type": "execute_result"
    }
   ],
   "source": [
    "stats.pearsonr(df['passenger_density'], df['crew'])"
   ]
  },
  {
   "cell_type": "code",
   "execution_count": 148,
   "metadata": {},
   "outputs": [
    {
     "data": {
      "text/plain": [
       "(-0.5306565039638854, 7.41074222714442e-13)"
      ]
     },
     "execution_count": 148,
     "metadata": {},
     "output_type": "execute_result"
    }
   ],
   "source": [
    "stats.pearsonr(df['Age'], df['crew'])"
   ]
  },
  {
   "cell_type": "markdown",
   "metadata": {},
   "source": [
    "Finally, we could say passenger_density is a variable that doesn't impact very much on crew size. Age impacts negatively as we could expect. 4 variables are very correlated, that are:\n",
    "- Tonnage\n",
    "- passengers\n",
    "- length\n",
    "- cabins\n",
    "\n",
    "We can add also Age that has a little correlation"
   ]
  },
  {
   "cell_type": "code",
   "execution_count": 149,
   "metadata": {},
   "outputs": [
    {
     "data": {
      "text/plain": [
       "<matplotlib.axes._subplots.AxesSubplot at 0x11ccd2890>"
      ]
     },
     "execution_count": 149,
     "metadata": {},
     "output_type": "execute_result"
    },
    {
     "data": {
      "image/png": "[encoded data removed]",
      "text/plain": [
       "<Figure size 432x288 with 2 Axes>"
      ]
     },
     "metadata": {
      "needs_background": "light"
     },
     "output_type": "display_data"
    }
   ],
   "source": [
    "corr = df.corr()\n",
    "\n",
    "# plot the heatmap\n",
    "sns.heatmap(corr, xticklabels=corr.columns, yticklabels=corr.columns, vmin=-1, vmax=1)"
   ]
  },
  {
   "cell_type": "markdown",
   "metadata": {},
   "source": [
    "This plot summarizes everything explained. \n",
    "\n",
    "It could be interesting notice if there is a sort of dependency from categorical variables. For example, a certain line imposes a size for the crew.\n",
    "\n",
    "Let's do Label Encoding to do evaluation of the variables respect to crew size. The problem of this approach is that using numbers includes a relationship, a hiearchy that could be misleading\n"
   ]
  },
  {
   "cell_type": "code",
   "execution_count": 150,
   "metadata": {},
   "outputs": [
    {
     "data": {
      "text/html": [
       "<div>\n",
       "<style scoped>\n",
       "    .dataframe tbody tr th:only-of-type {\n",
       "        vertical-align: middle;\n",
       "    }\n",
       "\n",
       "    .dataframe tbody tr th {\n",
       "        vertical-align: top;\n",
       "    }\n",
       "\n",
       "    .dataframe thead th {\n",
       "        text-align: right;\n",
       "    }\n",
       "</style>\n",
       "<table border=\"1\" class=\"dataframe\">\n",
       "  <thead>\n",
       "    <tr style=\"text-align: right;\">\n",
       "      <th></th>\n",
       "      <th>Ship_name</th>\n",
       "      <th>Cruise_line</th>\n",
       "      <th>Age</th>\n",
       "      <th>Tonnage</th>\n",
       "      <th>passengers</th>\n",
       "      <th>length</th>\n",
       "      <th>cabins</th>\n",
       "      <th>passenger_density</th>\n",
       "      <th>crew</th>\n",
       "    </tr>\n",
       "  </thead>\n",
       "  <tbody>\n",
       "    <tr>\n",
       "      <th>0</th>\n",
       "      <td>Journey</td>\n",
       "      <td>Azamara</td>\n",
       "      <td>6</td>\n",
       "      <td>30.277</td>\n",
       "      <td>6.94</td>\n",
       "      <td>5.94</td>\n",
       "      <td>3.55</td>\n",
       "      <td>42.64</td>\n",
       "      <td>3.55</td>\n",
       "    </tr>\n",
       "    <tr>\n",
       "      <th>1</th>\n",
       "      <td>Quest</td>\n",
       "      <td>Azamara</td>\n",
       "      <td>6</td>\n",
       "      <td>30.277</td>\n",
       "      <td>6.94</td>\n",
       "      <td>5.94</td>\n",
       "      <td>3.55</td>\n",
       "      <td>42.64</td>\n",
       "      <td>3.55</td>\n",
       "    </tr>\n",
       "    <tr>\n",
       "      <th>2</th>\n",
       "      <td>Celebration</td>\n",
       "      <td>Carnival</td>\n",
       "      <td>26</td>\n",
       "      <td>47.262</td>\n",
       "      <td>14.86</td>\n",
       "      <td>7.22</td>\n",
       "      <td>7.43</td>\n",
       "      <td>31.80</td>\n",
       "      <td>6.70</td>\n",
       "    </tr>\n",
       "    <tr>\n",
       "      <th>3</th>\n",
       "      <td>Conquest</td>\n",
       "      <td>Carnival</td>\n",
       "      <td>11</td>\n",
       "      <td>110.000</td>\n",
       "      <td>29.74</td>\n",
       "      <td>9.53</td>\n",
       "      <td>14.88</td>\n",
       "      <td>36.99</td>\n",
       "      <td>19.10</td>\n",
       "    </tr>\n",
       "    <tr>\n",
       "      <th>4</th>\n",
       "      <td>Destiny</td>\n",
       "      <td>Carnival</td>\n",
       "      <td>17</td>\n",
       "      <td>101.353</td>\n",
       "      <td>26.42</td>\n",
       "      <td>8.92</td>\n",
       "      <td>13.21</td>\n",
       "      <td>38.36</td>\n",
       "      <td>10.00</td>\n",
       "    </tr>\n",
       "  </tbody>\n",
       "</table>\n",
       "</div>"
      ],
      "text/plain": [
       "     Ship_name Cruise_line  Age  Tonnage  passengers  length  cabins  \\\n",
       "0      Journey     Azamara    6   30.277        6.94    5.94    3.55   \n",
       "1        Quest     Azamara    6   30.277        6.94    5.94    3.55   \n",
       "2  Celebration    Carnival   26   47.262       14.86    7.22    7.43   \n",
       "3     Conquest    Carnival   11  110.000       29.74    9.53   14.88   \n",
       "4      Destiny    Carnival   17  101.353       26.42    8.92   13.21   \n",
       "\n",
       "   passenger_density   crew  \n",
       "0              42.64   3.55  \n",
       "1              42.64   3.55  \n",
       "2              31.80   6.70  \n",
       "3              36.99  19.10  \n",
       "4              38.36  10.00  "
      ]
     },
     "execution_count": 150,
     "metadata": {},
     "output_type": "execute_result"
    }
   ],
   "source": [
    "df.head()"
   ]
  },
  {
   "cell_type": "code",
   "execution_count": 151,
   "metadata": {},
   "outputs": [],
   "source": [
    "## Backup Dataframe\n",
    "df_encoded = df.copy(deep=True);\n",
    "## Create an instance for LabelEncoder\n",
    "labelEncoder = LabelEncoder()\n",
    "## Do Transformation\n",
    "df_encoded['Ship_name'] = labelEncoder.fit_transform(df_encoded['Ship_name'])\n",
    "df_encoded['Cruise_line'] = labelEncoder.fit_transform(df_encoded['Cruise_line'])\n"
   ]
  },
  {
   "cell_type": "code",
   "execution_count": 152,
   "metadata": {},
   "outputs": [
    {
     "data": {
      "text/html": [
       "<div>\n",
       "<style scoped>\n",
       "    .dataframe tbody tr th:only-of-type {\n",
       "        vertical-align: middle;\n",
       "    }\n",
       "\n",
       "    .dataframe tbody tr th {\n",
       "        vertical-align: top;\n",
       "    }\n",
       "\n",
       "    .dataframe thead th {\n",
       "        text-align: right;\n",
       "    }\n",
       "</style>\n",
       "<table border=\"1\" class=\"dataframe\">\n",
       "  <thead>\n",
       "    <tr style=\"text-align: right;\">\n",
       "      <th></th>\n",
       "      <th>Ship_name</th>\n",
       "      <th>Cruise_line</th>\n",
       "      <th>Age</th>\n",
       "      <th>Tonnage</th>\n",
       "      <th>passengers</th>\n",
       "      <th>length</th>\n",
       "      <th>cabins</th>\n",
       "      <th>passenger_density</th>\n",
       "      <th>crew</th>\n",
       "    </tr>\n",
       "  </thead>\n",
       "  <tbody>\n",
       "    <tr>\n",
       "      <th>0</th>\n",
       "      <td>52</td>\n",
       "      <td>0</td>\n",
       "      <td>6</td>\n",
       "      <td>30.277</td>\n",
       "      <td>6.94</td>\n",
       "      <td>5.94</td>\n",
       "      <td>3.55</td>\n",
       "      <td>42.64</td>\n",
       "      <td>3.55</td>\n",
       "    </tr>\n",
       "    <tr>\n",
       "      <th>1</th>\n",
       "      <td>91</td>\n",
       "      <td>0</td>\n",
       "      <td>6</td>\n",
       "      <td>30.277</td>\n",
       "      <td>6.94</td>\n",
       "      <td>5.94</td>\n",
       "      <td>3.55</td>\n",
       "      <td>42.64</td>\n",
       "      <td>3.55</td>\n",
       "    </tr>\n",
       "    <tr>\n",
       "      <th>2</th>\n",
       "      <td>11</td>\n",
       "      <td>1</td>\n",
       "      <td>26</td>\n",
       "      <td>47.262</td>\n",
       "      <td>14.86</td>\n",
       "      <td>7.22</td>\n",
       "      <td>7.43</td>\n",
       "      <td>31.80</td>\n",
       "      <td>6.70</td>\n",
       "    </tr>\n",
       "    <tr>\n",
       "      <th>3</th>\n",
       "      <td>15</td>\n",
       "      <td>1</td>\n",
       "      <td>11</td>\n",
       "      <td>110.000</td>\n",
       "      <td>29.74</td>\n",
       "      <td>9.53</td>\n",
       "      <td>14.88</td>\n",
       "      <td>36.99</td>\n",
       "      <td>19.10</td>\n",
       "    </tr>\n",
       "    <tr>\n",
       "      <th>4</th>\n",
       "      <td>20</td>\n",
       "      <td>1</td>\n",
       "      <td>17</td>\n",
       "      <td>101.353</td>\n",
       "      <td>26.42</td>\n",
       "      <td>8.92</td>\n",
       "      <td>13.21</td>\n",
       "      <td>38.36</td>\n",
       "      <td>10.00</td>\n",
       "    </tr>\n",
       "  </tbody>\n",
       "</table>\n",
       "</div>"
      ],
      "text/plain": [
       "   Ship_name  Cruise_line  Age  Tonnage  passengers  length  cabins  \\\n",
       "0         52            0    6   30.277        6.94    5.94    3.55   \n",
       "1         91            0    6   30.277        6.94    5.94    3.55   \n",
       "2         11            1   26   47.262       14.86    7.22    7.43   \n",
       "3         15            1   11  110.000       29.74    9.53   14.88   \n",
       "4         20            1   17  101.353       26.42    8.92   13.21   \n",
       "\n",
       "   passenger_density   crew  \n",
       "0              42.64   3.55  \n",
       "1              42.64   3.55  \n",
       "2              31.80   6.70  \n",
       "3              36.99  19.10  \n",
       "4              38.36  10.00  "
      ]
     },
     "execution_count": 152,
     "metadata": {},
     "output_type": "execute_result"
    }
   ],
   "source": [
    "df_encoded.head()"
   ]
  },
  {
   "cell_type": "code",
   "execution_count": 153,
   "metadata": {},
   "outputs": [],
   "source": [
    "#pd.get_dummies(df['Ship_name'], dtype=float)"
   ]
  },
  {
   "cell_type": "code",
   "execution_count": 154,
   "metadata": {},
   "outputs": [
    {
     "data": {
      "text/plain": [
       "Text(0, 0.5, 'crew')"
      ]
     },
     "execution_count": 154,
     "metadata": {},
     "output_type": "execute_result"
    },
    {
     "data": {
      "image/png": "[encoded data removed]",
      "text/plain": [
       "<Figure size 576x576 with 2 Axes>"
      ]
     },
     "metadata": {
      "needs_background": "light"
     },
     "output_type": "display_data"
    }
   ],
   "source": [
    "fig, axs = plt.subplots(1, 2)  # a figure with a 2x2 grid of Axes\n",
    "fig.set_size_inches(8, 8)\n",
    "\n",
    "axs[0].scatter(df['Ship_name'], df['crew'])\n",
    "axs[0].set_xlabel('Ship_name')\n",
    "axs[0].set_ylabel('crew')\n",
    "\n",
    "axs[1].scatter(df['Cruise_line'], df['crew'])\n",
    "axs[1].set_xlabel('Cruise_line')\n",
    "axs[1].set_ylabel('crew')"
   ]
  },
  {
   "cell_type": "code",
   "execution_count": 155,
   "metadata": {},
   "outputs": [
    {
     "data": {
      "text/plain": [
       "(-0.20114262943277547, 0.011270331626155402)"
      ]
     },
     "execution_count": 155,
     "metadata": {},
     "output_type": "execute_result"
    }
   ],
   "source": [
    "stats.pearsonr(df_encoded['Ship_name'], df_encoded['crew'])"
   ]
  },
  {
   "cell_type": "code",
   "execution_count": 156,
   "metadata": {},
   "outputs": [
    {
     "data": {
      "text/plain": [
       "(-0.21168714292828594, 0.007583609325745481)"
      ]
     },
     "execution_count": 156,
     "metadata": {},
     "output_type": "execute_result"
    }
   ],
   "source": [
    "stats.pearsonr(df_encoded['Cruise_line'], df_encoded['crew'])"
   ]
  },
  {
   "cell_type": "markdown",
   "metadata": {},
   "source": [
    "**Now we can conclude there is non dependency from the model or the line of the boat**"
   ]
  },
  {
   "cell_type": "markdown",
   "metadata": {},
   "source": [
    "We will use passengers, Tonnage, cabins, length and Age to build our regressor"
   ]
  },
  {
   "cell_type": "markdown",
   "metadata": {},
   "source": [
    "## Build the model"
   ]
  },
  {
   "cell_type": "markdown",
   "metadata": {},
   "source": [
    "We want to build a multi regression model"
   ]
  },
  {
   "cell_type": "code",
   "execution_count": 157,
   "metadata": {},
   "outputs": [],
   "source": [
    "X = df[['Tonnage', 'length', 'passengers', 'cabins', 'Age']]\n",
    "y = df[['crew']]"
   ]
  },
  {
   "cell_type": "code",
   "execution_count": 158,
   "metadata": {},
   "outputs": [
    {
     "data": {
      "text/html": [
       "<div>\n",
       "<style scoped>\n",
       "    .dataframe tbody tr th:only-of-type {\n",
       "        vertical-align: middle;\n",
       "    }\n",
       "\n",
       "    .dataframe tbody tr th {\n",
       "        vertical-align: top;\n",
       "    }\n",
       "\n",
       "    .dataframe thead th {\n",
       "        text-align: right;\n",
       "    }\n",
       "</style>\n",
       "<table border=\"1\" class=\"dataframe\">\n",
       "  <thead>\n",
       "    <tr style=\"text-align: right;\">\n",
       "      <th></th>\n",
       "      <th>Tonnage</th>\n",
       "      <th>length</th>\n",
       "      <th>passengers</th>\n",
       "      <th>cabins</th>\n",
       "      <th>Age</th>\n",
       "    </tr>\n",
       "  </thead>\n",
       "  <tbody>\n",
       "    <tr>\n",
       "      <th>0</th>\n",
       "      <td>30.277</td>\n",
       "      <td>5.94</td>\n",
       "      <td>6.94</td>\n",
       "      <td>3.55</td>\n",
       "      <td>6</td>\n",
       "    </tr>\n",
       "    <tr>\n",
       "      <th>1</th>\n",
       "      <td>30.277</td>\n",
       "      <td>5.94</td>\n",
       "      <td>6.94</td>\n",
       "      <td>3.55</td>\n",
       "      <td>6</td>\n",
       "    </tr>\n",
       "    <tr>\n",
       "      <th>2</th>\n",
       "      <td>47.262</td>\n",
       "      <td>7.22</td>\n",
       "      <td>14.86</td>\n",
       "      <td>7.43</td>\n",
       "      <td>26</td>\n",
       "    </tr>\n",
       "    <tr>\n",
       "      <th>3</th>\n",
       "      <td>110.000</td>\n",
       "      <td>9.53</td>\n",
       "      <td>29.74</td>\n",
       "      <td>14.88</td>\n",
       "      <td>11</td>\n",
       "    </tr>\n",
       "    <tr>\n",
       "      <th>4</th>\n",
       "      <td>101.353</td>\n",
       "      <td>8.92</td>\n",
       "      <td>26.42</td>\n",
       "      <td>13.21</td>\n",
       "      <td>17</td>\n",
       "    </tr>\n",
       "    <tr>\n",
       "      <th>...</th>\n",
       "      <td>...</td>\n",
       "      <td>...</td>\n",
       "      <td>...</td>\n",
       "      <td>...</td>\n",
       "      <td>...</td>\n",
       "    </tr>\n",
       "    <tr>\n",
       "      <th>153</th>\n",
       "      <td>3.341</td>\n",
       "      <td>2.79</td>\n",
       "      <td>0.66</td>\n",
       "      <td>0.33</td>\n",
       "      <td>22</td>\n",
       "    </tr>\n",
       "    <tr>\n",
       "      <th>154</th>\n",
       "      <td>76.800</td>\n",
       "      <td>8.79</td>\n",
       "      <td>19.60</td>\n",
       "      <td>9.67</td>\n",
       "      <td>14</td>\n",
       "    </tr>\n",
       "    <tr>\n",
       "      <th>155</th>\n",
       "      <td>5.350</td>\n",
       "      <td>4.40</td>\n",
       "      <td>1.58</td>\n",
       "      <td>0.74</td>\n",
       "      <td>25</td>\n",
       "    </tr>\n",
       "    <tr>\n",
       "      <th>156</th>\n",
       "      <td>5.350</td>\n",
       "      <td>4.40</td>\n",
       "      <td>1.67</td>\n",
       "      <td>0.74</td>\n",
       "      <td>27</td>\n",
       "    </tr>\n",
       "    <tr>\n",
       "      <th>157</th>\n",
       "      <td>14.745</td>\n",
       "      <td>6.17</td>\n",
       "      <td>3.08</td>\n",
       "      <td>1.56</td>\n",
       "      <td>23</td>\n",
       "    </tr>\n",
       "  </tbody>\n",
       "</table>\n",
       "<p>158 rows × 5 columns</p>\n",
       "</div>"
      ],
      "text/plain": [
       "     Tonnage  length  passengers  cabins  Age\n",
       "0     30.277    5.94        6.94    3.55    6\n",
       "1     30.277    5.94        6.94    3.55    6\n",
       "2     47.262    7.22       14.86    7.43   26\n",
       "3    110.000    9.53       29.74   14.88   11\n",
       "4    101.353    8.92       26.42   13.21   17\n",
       "..       ...     ...         ...     ...  ...\n",
       "153    3.341    2.79        0.66    0.33   22\n",
       "154   76.800    8.79       19.60    9.67   14\n",
       "155    5.350    4.40        1.58    0.74   25\n",
       "156    5.350    4.40        1.67    0.74   27\n",
       "157   14.745    6.17        3.08    1.56   23\n",
       "\n",
       "[158 rows x 5 columns]"
      ]
     },
     "execution_count": 158,
     "metadata": {},
     "output_type": "execute_result"
    }
   ],
   "source": [
    "X"
   ]
  },
  {
   "cell_type": "code",
   "execution_count": 159,
   "metadata": {
    "scrolled": true
   },
   "outputs": [
    {
     "data": {
      "text/html": [
       "<div>\n",
       "<style scoped>\n",
       "    .dataframe tbody tr th:only-of-type {\n",
       "        vertical-align: middle;\n",
       "    }\n",
       "\n",
       "    .dataframe tbody tr th {\n",
       "        vertical-align: top;\n",
       "    }\n",
       "\n",
       "    .dataframe thead th {\n",
       "        text-align: right;\n",
       "    }\n",
       "</style>\n",
       "<table border=\"1\" class=\"dataframe\">\n",
       "  <thead>\n",
       "    <tr style=\"text-align: right;\">\n",
       "      <th></th>\n",
       "      <th>crew</th>\n",
       "    </tr>\n",
       "  </thead>\n",
       "  <tbody>\n",
       "    <tr>\n",
       "      <th>0</th>\n",
       "      <td>3.55</td>\n",
       "    </tr>\n",
       "    <tr>\n",
       "      <th>1</th>\n",
       "      <td>3.55</td>\n",
       "    </tr>\n",
       "    <tr>\n",
       "      <th>2</th>\n",
       "      <td>6.70</td>\n",
       "    </tr>\n",
       "    <tr>\n",
       "      <th>3</th>\n",
       "      <td>19.10</td>\n",
       "    </tr>\n",
       "    <tr>\n",
       "      <th>4</th>\n",
       "      <td>10.00</td>\n",
       "    </tr>\n",
       "    <tr>\n",
       "      <th>...</th>\n",
       "      <td>...</td>\n",
       "    </tr>\n",
       "    <tr>\n",
       "      <th>153</th>\n",
       "      <td>0.59</td>\n",
       "    </tr>\n",
       "    <tr>\n",
       "      <th>154</th>\n",
       "      <td>12.00</td>\n",
       "    </tr>\n",
       "    <tr>\n",
       "      <th>155</th>\n",
       "      <td>0.88</td>\n",
       "    </tr>\n",
       "    <tr>\n",
       "      <th>156</th>\n",
       "      <td>0.88</td>\n",
       "    </tr>\n",
       "    <tr>\n",
       "      <th>157</th>\n",
       "      <td>1.80</td>\n",
       "    </tr>\n",
       "  </tbody>\n",
       "</table>\n",
       "<p>158 rows × 1 columns</p>\n",
       "</div>"
      ],
      "text/plain": [
       "      crew\n",
       "0     3.55\n",
       "1     3.55\n",
       "2     6.70\n",
       "3    19.10\n",
       "4    10.00\n",
       "..     ...\n",
       "153   0.59\n",
       "154  12.00\n",
       "155   0.88\n",
       "156   0.88\n",
       "157   1.80\n",
       "\n",
       "[158 rows x 1 columns]"
      ]
     },
     "execution_count": 159,
     "metadata": {},
     "output_type": "execute_result"
    }
   ],
   "source": [
    "y"
   ]
  },
  {
   "cell_type": "markdown",
   "metadata": {},
   "source": [
    "**The first step in building a model is scaling the data in Z varibles as:**\n",
    "\n",
    "\\begin{equation}Z = \\frac{X-\\mu}{\\sigma}\\end{equation}\n",
    "\n",
    "\n"
   ]
  },
  {
   "cell_type": "code",
   "execution_count": 160,
   "metadata": {},
   "outputs": [],
   "source": [
    "scaler = StandardScaler()\n",
    "Z = scaler.fit_transform(X)"
   ]
  },
  {
   "cell_type": "markdown",
   "metadata": {},
   "source": [
    "## Train Test Split the Dataset"
   ]
  },
  {
   "cell_type": "code",
   "execution_count": 161,
   "metadata": {},
   "outputs": [],
   "source": [
    "Z_train, Z_test, y_train, y_test = train_test_split(Z, y, test_size=0.4, random_state=1)##by default shuffle is True"
   ]
  },
  {
   "cell_type": "markdown",
   "metadata": {},
   "source": [
    "## Build Regressor"
   ]
  },
  {
   "cell_type": "code",
   "execution_count": 162,
   "metadata": {},
   "outputs": [
    {
     "data": {
      "text/plain": [
       "LinearRegression(copy_X=True, fit_intercept=True, n_jobs=None, normalize=False)"
      ]
     },
     "execution_count": 162,
     "metadata": {},
     "output_type": "execute_result"
    }
   ],
   "source": [
    "linearRegression = LinearRegression()\n",
    "linearRegression.fit(Z_train, y_train)"
   ]
  },
  {
   "cell_type": "code",
   "execution_count": 163,
   "metadata": {},
   "outputs": [],
   "source": [
    "y_pred = linearRegression.predict(Z_test)"
   ]
  },
  {
   "cell_type": "code",
   "execution_count": 164,
   "metadata": {},
   "outputs": [
    {
     "name": "stdout",
     "output_type": "stream",
     "text": [
      "The coefficient of determination is: 0.92\n"
     ]
    }
   ],
   "source": [
    "print(\"The coefficient of determination is: {:.2f}\".format(linearRegression.score(Z_train, y_train)))"
   ]
  },
  {
   "cell_type": "code",
   "execution_count": 165,
   "metadata": {
    "scrolled": true
   },
   "outputs": [
    {
     "name": "stdout",
     "output_type": "stream",
     "text": [
      "The accuracy as R-squared is: 0.94\n"
     ]
    }
   ],
   "source": [
    "print(\"The accuracy as R-squared is: {:.2f}\".format(linearRegression.score(Z_test, y_test)))"
   ]
  },
  {
   "cell_type": "markdown",
   "metadata": {},
   "source": [
    "We get a very good accuracy for the model. It is a very good regressor "
   ]
  },
  {
   "cell_type": "markdown",
   "metadata": {},
   "source": [
    "## Tuning"
   ]
  },
  {
   "cell_type": "code",
   "execution_count": 166,
   "metadata": {},
   "outputs": [],
   "source": [
    "def buildAndTestModel(sz):\n",
    "    Z_train, Z_test, y_train, y_test = train_test_split(Z, y, test_size=sz)##by default shuffle is True\n",
    " \n",
    "    linearRegression = LinearRegression()\n",
    "    linearRegression.fit(Z_train, y_train)\n",
    "    \n",
    "    y_pred = linearRegression.predict(Z_test)\n",
    "    \n",
    "    return linearRegression.score(Z_test, y_test)"
   ]
  },
  {
   "cell_type": "code",
   "execution_count": 167,
   "metadata": {},
   "outputs": [],
   "source": [
    "### The parameter to tune is the dimension of test set.\n",
    "### Let's change this parameter for a certain number of epochs\n",
    "#### Then get what is the max for the dimension of test set for various epochs\n",
    "test = np.arange(0.1, 0.5, 0.05)\n",
    "epochs = 1000\n",
    "\n",
    "listScores = []\n",
    "for j in range(epochs):\n",
    "    scores = []\n",
    "    for i in test:\n",
    "        scores.append(buildAndTestModel(i))\n",
    "    listScores.append(scores)\n",
    "df_scores = pd.DataFrame(listScores).transpose()\n",
    "df_scores.set_index(test,inplace=True)\n",
    "df_idxmax = df_scores.idxmax()"
   ]
  },
  {
   "cell_type": "code",
   "execution_count": 168,
   "metadata": {
    "scrolled": true
   },
   "outputs": [
    {
     "data": {
      "text/plain": [
       "(array([270., 214., 152.,   0., 119.,  91.,   0.,  73.,  50.,  31.]),\n",
       " array([0.1  , 0.135, 0.17 , 0.205, 0.24 , 0.275, 0.31 , 0.345, 0.38 ,\n",
       "        0.415, 0.45 ]),\n",
       " <a list of 10 Patch objects>)"
      ]
     },
     "execution_count": 168,
     "metadata": {},
     "output_type": "execute_result"
    },
    {
     "data": {
      "image/png": "[encoded data removed]",
      "text/plain": [
       "<Figure size 432x288 with 1 Axes>"
      ]
     },
     "metadata": {
      "needs_background": "light"
     },
     "output_type": "display_data"
    }
   ],
   "source": [
    "plt.hist(df_idxmax)"
   ]
  },
  {
   "cell_type": "markdown",
   "metadata": {},
   "source": [
    "We can see after this analysis, a good choice for test set could be lower than 0.2"
   ]
  },
  {
   "cell_type": "code",
   "execution_count": 175,
   "metadata": {},
   "outputs": [
    {
     "data": {
      "text/plain": [
       "0.9527046934168341"
      ]
     },
     "execution_count": 175,
     "metadata": {},
     "output_type": "execute_result"
    }
   ],
   "source": [
    "Z_train, Z_test, y_train, y_test = train_test_split(Z, y, test_size=0.2, random_state=50)##by default shuffle is True\n",
    " \n",
    "model = LinearRegression()\n",
    "model.fit(Z_train, y_train)\n",
    "\n",
    "y_pred = model.predict(Z_test)\n",
    "\n",
    "model.score(Z_test, y_test)"
   ]
  },
  {
   "cell_type": "code",
   "execution_count": 176,
   "metadata": {},
   "outputs": [
    {
     "data": {
      "text/plain": [
       "['model_ship.pkl']"
      ]
     },
     "execution_count": 176,
     "metadata": {},
     "output_type": "execute_result"
    }
   ],
   "source": [
    "#joblib.dump(model, 'model_ship.pkl') "
   ]
  },
  {
   "cell_type": "code",
   "execution_count": null,
   "metadata": {},
   "outputs": [],
   "source": []
  }
 ],
 "metadata": {
  "kernelspec": {
   "display_name": "Python 3.7.6 64-bit",
   "language": "python",
   "name": "python37664bit3851e706179449cf8666eb08db445c37"
  },
  "language_info": {
   "codemirror_mode": {
    "name": "ipython",
    "version": 3
   },
   "file_extension": ".py",
   "mimetype": "text/x-python",
   "name": "python",
   "nbconvert_exporter": "python",
   "pygments_lexer": "ipython3",
   "version": "3.7.6"
  }
 },
 "nbformat": 4,
 "nbformat_minor": 4
}
